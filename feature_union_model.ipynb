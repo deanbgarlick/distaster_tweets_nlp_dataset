{
 "cells": [
  {
   "cell_type": "code",
   "execution_count": 1,
   "metadata": {},
   "outputs": [],
   "source": [
    "import matplotlib.pyplot as plt\n",
    "import pandas as pd\n",
    "\n",
    "from sklearn.compose import ColumnTransformer\n",
    "from sklearn.ensemble import RandomForestClassifier\n",
    "from sklearn.metrics import accuracy_score, auc, plot_roc_curve, plot_precision_recall_curve\n",
    "from sklearn.model_selection import train_test_split\n",
    "from sklearn.pipeline import Pipeline, FeatureUnion\n",
    "from sklearn.preprocessing import FunctionTransformer\n",
    "from sklearn.feature_extraction.text import CountVectorizer, TfidfTransformer, HashingVectorizer\n",
    "\n",
    "from utils import *"
   ]
  },
  {
   "cell_type": "code",
   "execution_count": 2,
   "metadata": {},
   "outputs": [],
   "source": [
    "data = pd.read_csv('train.csv', index_col='id')\n",
    "\n",
    "data['keyword'] = data.keyword.apply(lambda x: str(x))\n",
    "data['location'] = data.location.apply(lambda x: str(x))\n",
    "\n",
    "X_train, X_validation, y_train, y_validation = train_test_split(\n",
    "    data.drop('target', axis=1), data.target, test_size=0.2\n",
    ")"
   ]
  },
  {
   "cell_type": "code",
   "execution_count": 3,
   "metadata": {},
   "outputs": [],
   "source": [
    "def get_ordinal_encoding(x):\n",
    "    ordinal_encoding = np.argmax(x, axis=1)\n",
    "    return ordinal_encoding\n",
    "\n",
    "\n",
    "def make_categorical_numeric_encoder(feature):\n",
    "    categorical_numeric_encoder_ct = Pipeline(\n",
    "        [\n",
    "            ('t_{}_hash'.format(feature), ColumnTransformer([('t_{}'.format(feature), HashingVectorizer(), feature)])),\n",
    "            ('t_{}_number'.format(feature), FunctionTransformer(get_ordinal_encoding))\n",
    "        ]\n",
    "    )\n",
    "    return categorical_numeric_encoder_ct"
   ]
  },
  {
   "cell_type": "code",
   "execution_count": 4,
   "metadata": {},
   "outputs": [],
   "source": [
    "meta_data_encoder = ColumnTransformer(\n",
    "    [\n",
    "        ('mean_word_len', FunctionTransformer(lambda x: mean_word_length(x)), 'text'),\n",
    "        ('tweet_length_t', FunctionTransformer(lambda x: tweet_length(x)), 'text')\n",
    "    ]\n",
    ")\n",
    "\n",
    "\n",
    "text_encoder = Pipeline(\n",
    "    [\n",
    "        ('word_tokenizer', ColumnTransformer([('words', FunctionTransformer(get_words), 'text')])),\n",
    "        ('stop_words_remover', FunctionTransformer(remove_stop_words)),\n",
    "        ('cleaned_strings', FunctionTransformer(replace_numbers_and_punctuation)),\n",
    "        ('count_vectorizer', CountVectorizer(ngram_range=(1, 1))),\n",
    "        ('tfidf', TfidfTransformer(use_idf=True)),\n",
    "    ]\n",
    ")\n",
    "\n",
    "keyword_encoder = make_categorical_numeric_encoder('keyword')\n",
    "location_encoder = make_categorical_numeric_encoder('keyword')\n"
   ]
  },
  {
   "cell_type": "code",
   "execution_count": 5,
   "metadata": {},
   "outputs": [],
   "source": [
    "feature_union_encoder = FeatureUnion(\n",
    "    [\n",
    "        ('meta_data_encoded', meta_data_encoder),\n",
    "        ('text_encoded', text_encoder),\n",
    "        ('keyword_encoded', keyword_encoder),\n",
    "        ('location_encoded', location_encoder)\n",
    "    ]\n",
    ")"
   ]
  },
  {
   "cell_type": "code",
   "execution_count": 6,
   "metadata": {},
   "outputs": [
    {
     "data": {
      "text/plain": [
       "0.7898883782009193"
      ]
     },
     "execution_count": 6,
     "metadata": {},
     "output_type": "execute_result"
    }
   ],
   "source": [
    "pipeline = Pipeline([\n",
    "    ('encode_data', feature_union_encoder),\n",
    "    ('classifier', RandomForestClassifier())\n",
    "])\n",
    "pipeline.fit(X_train, y_train)\n",
    "accuracy_score(pipeline.predict(X_validation), y_validation)"
   ]
  },
  {
   "cell_type": "code",
   "execution_count": 7,
   "metadata": {},
   "outputs": [
    {
     "data": {
      "image/png": "[encoded data removed]",
      "text/plain": [
       "<Figure size 432x288 with 1 Axes>"
      ]
     },
     "metadata": {
      "needs_background": "light"
     },
     "output_type": "display_data"
    }
   ],
   "source": [
    "plot_roc_curve(pipeline, X_validation, y_validation)\n",
    "plt.plot([0, 1], [0, 1], color='red', lw=2, linestyle='--')\n",
    "plt.show()"
   ]
  }
 ],
 "metadata": {
  "kernelspec": {
   "display_name": "Python 3",
   "language": "python",
   "name": "python3"
  },
  "language_info": {
   "codemirror_mode": {
    "name": "ipython",
    "version": 3
   },
   "file_extension": ".py",
   "mimetype": "text/x-python",
   "name": "python",
   "nbconvert_exporter": "python",
   "pygments_lexer": "ipython3",
   "version": "3.7.3"
  }
 },
 "nbformat": 4,
 "nbformat_minor": 2
}
