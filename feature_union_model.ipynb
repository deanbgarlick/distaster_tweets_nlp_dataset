{
 "cells": [
  {
   "cell_type": "code",
   "execution_count": 48,
   "metadata": {},
   "outputs": [],
   "source": [
    "import matplotlib.pyplot as plt\n",
    "import pandas as pd\n",
    "\n",
    "from category_encoders.leave_one_out import LeaveOneOutEncoder\n",
    "from sklearn.calibration import CalibratedClassifierCV, calibration_curve\n",
    "from sklearn.compose import ColumnTransformer\n",
    "from sklearn.ensemble import RandomForestClassifier, GradientBoostingClassifier\n",
    "from sklearn.linear_model import LogisticRegression, Perceptron\n",
    "from sklearn.metrics import accuracy_score, auc, plot_roc_curve, plot_precision_recall_curve\n",
    "from sklearn.model_selection import train_test_split, GridSearchCV\n",
    "from sklearn.naive_bayes import MultinomialNB, CategoricalNB\n",
    "from sklearn.pipeline import Pipeline, FeatureUnion\n",
    "from sklearn.preprocessing import FunctionTransformer\n",
    "from sklearn.feature_extraction.text import CountVectorizer, TfidfTransformer, HashingVectorizer\n",
    "\n",
    "from utils import *"
   ]
  },
  {
   "cell_type": "code",
   "execution_count": 4,
   "metadata": {},
   "outputs": [],
   "source": [
    "data = pd.read_csv('train.csv', index_col='id')\n",
    "\n",
    "data['keyword'] = data.keyword.apply(lambda x: str(x))\n",
    "data['location'] = data.location.apply(lambda x: str(x))\n",
    "\n",
    "X_train, X_validation, y_train, y_validation = train_test_split(\n",
    "    data.drop('target', axis=1), data.target, test_size=0.2\n",
    ")"
   ]
  },
  {
   "cell_type": "code",
   "execution_count": 5,
   "metadata": {},
   "outputs": [],
   "source": [
    "def get_ordinal_encoding(x):\n",
    "    ordinal_encoding = np.argmax(x, axis=1)\n",
    "    return ordinal_encoding\n",
    "\n",
    "\n",
    "\"\"\"\n",
    "def make_categorical_numeric_encoder(feature):\n",
    "    categorical_numeric_encoder_ct = Pipeline(\n",
    "        [\n",
    "            ('t_{}_hash'.format(feature), ColumnTransformer([('t_{}'.format(feature), HashingVectorizer(), feature)])),\n",
    "            ('t_{}_number'.format(feature), FunctionTransformer(get_ordinal_encoding))\n",
    "        ]\n",
    "    )\n",
    "    return categorical_numeric_encoder_ct\n",
    "\"\"\"\n",
    "\n",
    "def make_categorical_numeric_encoder(feature):\n",
    "    categorical_numeric_encoder_ct = Pipeline(\n",
    "        [\n",
    "            ('t_{}'.format(feature), ColumnTransformer([('t_{}'.format(feature), LeaveOneOutEncoder(), feature)])),\n",
    "        ]\n",
    "    )\n",
    "    return categorical_numeric_encoder_ct\n",
    "    "
   ]
  },
  {
   "cell_type": "code",
   "execution_count": 6,
   "metadata": {},
   "outputs": [],
   "source": [
    "meta_data_encoder = ColumnTransformer(\n",
    "    [\n",
    "        ('mean_word_len', FunctionTransformer(lambda x: mean_word_length(x)), 'text'),\n",
    "        ('tweet_length_t', FunctionTransformer(lambda x: tweet_length(x)), 'text')\n",
    "    ]\n",
    ")\n",
    "\n",
    "\n",
    "text_encoder = Pipeline(\n",
    "    [\n",
    "        ('word_tokenizer', ColumnTransformer([('words', FunctionTransformer(get_words), 'text')])),\n",
    "        ('stop_words_remover', FunctionTransformer(remove_stop_words)),\n",
    "        ('cleaned_strings', FunctionTransformer(replace_numbers_and_punctuation)),\n",
    "        ('count_vectorizer', CountVectorizer(ngram_range=(1, 1))),\n",
    "        ('tfidf', TfidfTransformer(use_idf=True)),\n",
    "    ]\n",
    ")\n",
    "\n",
    "keyword_encoder = make_categorical_numeric_encoder('keyword')\n",
    "location_encoder = make_categorical_numeric_encoder('keyword')\n"
   ]
  },
  {
   "cell_type": "code",
   "execution_count": 7,
   "metadata": {},
   "outputs": [],
   "source": [
    "feature_union_encoder = FeatureUnion(\n",
    "    [\n",
    "        ('meta_data_encoded', meta_data_encoder),\n",
    "        ('text_encoded', text_encoder),\n",
    "        ('keyword_encoded', keyword_encoder),\n",
    "        ('location_encoded', location_encoder)\n",
    "    ]\n",
    ")"
   ]
  },
  {
   "cell_type": "code",
   "execution_count": null,
   "metadata": {},
   "outputs": [],
   "source": [
    "pipeline = Pipeline([\n",
    "    ('encode_data', feature_union_encoder),\n",
    "    ('classify', RandomForestClassifier())\n",
    "])\n",
    "\n",
    "param_grid = {'classify': [RandomForestClassifier(), GradientBoostingClassifier(), LogisticRegression(max_iter=500), Perceptron(max_iter=500)]}\n",
    "model = GridSearchCV(pipeline, param_grid)\n",
    "model.fit(X_train, y_train)"
   ]
  },
  {
   "cell_type": "code",
   "execution_count": 21,
   "metadata": {},
   "outputs": [
    {
     "data": {
      "text/plain": [
       "0.7905449770190414"
      ]
     },
     "execution_count": 21,
     "metadata": {},
     "output_type": "execute_result"
    }
   ],
   "source": [
    "accuracy_score(model.predict(X_validation), y_validation)"
   ]
  },
  {
   "cell_type": "code",
   "execution_count": 23,
   "metadata": {},
   "outputs": [
    {
     "data": {
      "image/png": "[encoded data removed]",
      "text/plain": [
       "<Figure size 432x288 with 1 Axes>"
      ]
     },
     "metadata": {
      "needs_background": "light"
     },
     "output_type": "display_data"
    }
   ],
   "source": [
    "plot_roc_curve(model, X_validation, y_validation)\n",
    "plt.plot([0, 1], [0, 1], color='red', lw=2, linestyle='--')\n",
    "plt.show()"
   ]
  },
  {
   "cell_type": "code",
   "execution_count": 34,
   "metadata": {},
   "outputs": [
    {
     "name": "stdout",
     "output_type": "stream",
     "text": [
      "0.7918581746552856\n",
      "0.5915955351280368\n"
     ]
    }
   ],
   "source": [
    "numeric_nb = Pipeline(\n",
    "    [\n",
    "        (\n",
    "            'encoding', FeatureUnion(\n",
    "                [\n",
    "                    ('meta_data_encoded', meta_data_encoder),\n",
    "                    ('text_encoded', text_encoder)\n",
    "                ]\n",
    "            )\n",
    "        ),\n",
    "        ('classify', MultinomialNB())\n",
    "    ]\n",
    ")\n",
    "\n",
    "numeric_nb.fit(X_train, y_train)\n",
    "print(accuracy_score(numeric_nb.predict(X_validation), y_validation))\n",
    "\n",
    "\n",
    "\n",
    "\n",
    "\n",
    "categoric_nb = Pipeline(\n",
    "    [\n",
    "        (\n",
    "            'data', FeatureUnion(\n",
    "                [\n",
    "                    ('keyword_encoded', keyword_encoder),\n",
    "                    ('location_encoded', location_encoder)\n",
    "                ]\n",
    "            )\n",
    "        ),\n",
    "        ('classify', CategoricalNB())\n",
    "    ]\n",
    ")\n",
    "categoric_nb.fit(X_train, y_train)\n",
    "print(accuracy_score(categoric_nb.predict(X_validation), y_validation))"
   ]
  },
  {
   "cell_type": "code",
   "execution_count": 94,
   "metadata": {},
   "outputs": [
    {
     "name": "stdout",
     "output_type": "stream",
     "text": [
      "0.7642810242941562\n"
     ]
    }
   ],
   "source": [
    "def predict_proba(X_data):\n",
    "    unnormalized_joint = np.multiply(numeric_nb.predict_proba(X_data), categoric_nb.predict_proba(X_data))\n",
    "    return unnormalized_joint / unnormalized_joint.sum(axis=1).reshape(-1,1)\n",
    "\n",
    "def predict(X_data):\n",
    "    label_probs = predict_proba(X_data)\n",
    "    map_labels = np.argmax(label_probs, axis=1)\n",
    "    return map_labels\n",
    "\n",
    "print(accuracy_score(predict(X_validation), y_validation))"
   ]
  },
  {
   "cell_type": "code",
   "execution_count": 75,
   "metadata": {},
   "outputs": [
    {
     "data": {
      "image/png": "[encoded data removed]",
      "text/plain": [
       "<Figure size 1728x576 with 2 Axes>"
      ]
     },
     "metadata": {
      "needs_background": "light"
     },
     "output_type": "display_data"
    }
   ],
   "source": [
    "plt.subplots(nrows=1, ncols=2, figsize=(24, 8))\n",
    "\n",
    "fraction_of_positives, mean_predicted_value = calibration_curve(y_train, numeric_nb.predict_proba(X_train)[:,1].reshape(-1,1), n_bins=20)\n",
    "plt.subplot(1,2,1)\n",
    "plt.plot(mean_predicted_value, fraction_of_positives, \"s-\")\n",
    "\n",
    "fraction_of_positives, mean_predicted_value = calibration_curve(y_train, categoric_nb.predict_proba(X_train)[:,1].reshape(-1,1), n_bins=20)\n",
    "plt.subplot(1,2,2)\n",
    "plt.plot(mean_predicted_value, fraction_of_positives, \"s-\")\n",
    "\n",
    "\n",
    "plt.show()"
   ]
  },
  {
   "cell_type": "code",
   "execution_count": 79,
   "metadata": {},
   "outputs": [
    {
     "data": {
      "text/plain": [
       "array([0, 0, 1, ..., 0, 0, 0])"
      ]
     },
     "execution_count": 79,
     "metadata": {},
     "output_type": "execute_result"
    }
   ],
   "source": [
    "numeric_nb.fit(X_train, y_train)"
   ]
  },
  {
   "cell_type": "code",
   "execution_count": 84,
   "metadata": {},
   "outputs": [
    {
     "data": {
      "text/plain": [
       "CalibratedClassifierCV(base_estimator=MultinomialNB(alpha=1.0, class_prior=None,\n",
       "                                                    fit_prior=True),\n",
       "                       cv=2, method='isotonic')"
      ]
     },
     "execution_count": 84,
     "metadata": {},
     "output_type": "execute_result"
    }
   ],
   "source": [
    "encoding_pipeline = Pipeline(\n",
    "    [\n",
    "        (\n",
    "            'encoding', FeatureUnion(\n",
    "                [\n",
    "                    ('meta_data_encoded', meta_data_encoder),\n",
    "                    ('text_encoded', text_encoder)\n",
    "                ]\n",
    "            )\n",
    "        )\n",
    "    ]\n",
    ")\n",
    "encoded_train = encoding_pipeline.fit_transform(X_train)\n",
    "encoded_validation = encoding_pipeline.transform(X_validation)\n",
    "isotonic = CalibratedClassifierCV(MultinomialNB(), cv=2, method='isotonic')\n",
    "isotonic.fit(encoded_train, y_train)"
   ]
  },
  {
   "cell_type": "code",
   "execution_count": 90,
   "metadata": {},
   "outputs": [
    {
     "data": {
      "image/png": "[encoded data removed]",
      "text/plain": [
       "<Figure size 432x288 with 1 Axes>"
      ]
     },
     "metadata": {
      "needs_background": "light"
     },
     "output_type": "display_data"
    }
   ],
   "source": [
    "fraction_of_positives, mean_predicted_value = calibration_curve(y_train, isotonic.predict_proba(encoded_train)[:,1].reshape(-1,1), n_bins=20)\n",
    "plt.plot(mean_predicted_value, fraction_of_positives, \"s-\")\n",
    "plt.show()"
   ]
  },
  {
   "cell_type": "code",
   "execution_count": 93,
   "metadata": {},
   "outputs": [
    {
     "name": "stdout",
     "output_type": "stream",
     "text": [
      "0.7570584372948129\n"
     ]
    }
   ],
   "source": [
    "def predict_proba(X_data, X_data_encoded):\n",
    "    unnormalized_joint = np.multiply(isotonic.predict_proba(X_data_encoded), categoric_nb.predict_proba(X_data))\n",
    "    return unnormalized_joint / unnormalized_joint.sum(axis=1).reshape(-1,1)\n",
    "\n",
    "def predict(X_data, X_data_encoded):\n",
    "    label_probs = predict_proba(X_data, X_data_encoded)\n",
    "    map_labels = np.argmax(label_probs, axis=1)\n",
    "    return map_labels\n",
    "\n",
    "print(accuracy_score(predict(X_validation, encoded_validation), y_validation))"
   ]
  }
 ],
 "metadata": {
  "kernelspec": {
   "display_name": "Python 3",
   "language": "python",
   "name": "python3"
  },
  "language_info": {
   "codemirror_mode": {
    "name": "ipython",
    "version": 3
   },
   "file_extension": ".py",
   "mimetype": "text/x-python",
   "name": "python",
   "nbconvert_exporter": "python",
   "pygments_lexer": "ipython3",
   "version": "3.7.3"
  }
 },
 "nbformat": 4,
 "nbformat_minor": 2
}
